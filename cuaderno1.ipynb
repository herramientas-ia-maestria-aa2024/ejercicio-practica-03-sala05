{
 "cells": [
  {
   "cell_type": "markdown",
   "metadata": {},
   "source": [
    "Parte 1\n",
    "- Trabajar en un archivo llamado cuaderno1.ipynb\n",
    "- Crea un conjunto de datos usando la librería https://faker.readthedocs.io/en/master/\n",
    "- El número de registros que se debe generar es de 10000\n",
    "- El conjunto de datos tendrá las siguientes características:\n",
    "- Para cada registro usar las características: fake.name(), fake.last_name(), fake.email(), fake.address()\n",
    "- Pasar los registros a un dataframe de pandas\n",
    "- Agregando dos características más:\n",
    "- Edad, comprendidas entre 30 y 40 años\n",
    "- Provincia, entre las opciones (Loja, Pichincha, Guayas, Azuay, Manabí)\n",
    "- Pasar el dataframe a un archivo csv"
   ]
  },
  {
   "cell_type": "code",
   "execution_count": 70,
   "metadata": {},
   "outputs": [
    {
     "data": {
      "text/html": [
       "<div>\n",
       "<style scoped>\n",
       "    .dataframe tbody tr th:only-of-type {\n",
       "        vertical-align: middle;\n",
       "    }\n",
       "\n",
       "    .dataframe tbody tr th {\n",
       "        vertical-align: top;\n",
       "    }\n",
       "\n",
       "    .dataframe thead th {\n",
       "        text-align: right;\n",
       "    }\n",
       "</style>\n",
       "<table border=\"1\" class=\"dataframe\">\n",
       "  <thead>\n",
       "    <tr style=\"text-align: right;\">\n",
       "      <th></th>\n",
       "      <th>Nombres</th>\n",
       "      <th>Apellidos</th>\n",
       "      <th>Correo</th>\n",
       "      <th>Direccion</th>\n",
       "      <th>Edad</th>\n",
       "      <th>Provincia</th>\n",
       "    </tr>\n",
       "  </thead>\n",
       "  <tbody>\n",
       "    <tr>\n",
       "      <th>0</th>\n",
       "      <td>Stephanie Hughes</td>\n",
       "      <td>Green</td>\n",
       "      <td>rglenn@example.net</td>\n",
       "      <td>5145 Phillips Tunnel Suite 711\\nNorth Kim, CA ...</td>\n",
       "      <td>40</td>\n",
       "      <td>Loja</td>\n",
       "    </tr>\n",
       "    <tr>\n",
       "      <th>1</th>\n",
       "      <td>John Jefferson</td>\n",
       "      <td>Torres</td>\n",
       "      <td>iking@example.com</td>\n",
       "      <td>6457 Ricardo Wells Apt. 512\\nMarybury, KY 23671</td>\n",
       "      <td>31</td>\n",
       "      <td>Pichincha</td>\n",
       "    </tr>\n",
       "    <tr>\n",
       "      <th>2</th>\n",
       "      <td>Nicole Johns</td>\n",
       "      <td>Potts</td>\n",
       "      <td>shane81@example.org</td>\n",
       "      <td>27521 Sarah Port Apt. 271\\nCarolynborough, MT ...</td>\n",
       "      <td>31</td>\n",
       "      <td>Guayas</td>\n",
       "    </tr>\n",
       "    <tr>\n",
       "      <th>3</th>\n",
       "      <td>Edwin Henderson</td>\n",
       "      <td>Grimes</td>\n",
       "      <td>crystal80@example.net</td>\n",
       "      <td>31334 Zachary Fork\\nLisatown, AL 44945</td>\n",
       "      <td>39</td>\n",
       "      <td>Azuay</td>\n",
       "    </tr>\n",
       "    <tr>\n",
       "      <th>4</th>\n",
       "      <td>Donna Martinez</td>\n",
       "      <td>Moore</td>\n",
       "      <td>mikemcintosh@example.net</td>\n",
       "      <td>27762 William Rest\\nLake Angelafurt, AR 14496</td>\n",
       "      <td>34</td>\n",
       "      <td>Pichincha</td>\n",
       "    </tr>\n",
       "  </tbody>\n",
       "</table>\n",
       "</div>"
      ],
      "text/plain": [
       "            Nombres Apellidos                    Correo   \n",
       "0  Stephanie Hughes     Green        rglenn@example.net  \\\n",
       "1    John Jefferson    Torres         iking@example.com   \n",
       "2      Nicole Johns     Potts       shane81@example.org   \n",
       "3   Edwin Henderson    Grimes     crystal80@example.net   \n",
       "4    Donna Martinez     Moore  mikemcintosh@example.net   \n",
       "\n",
       "                                           Direccion  Edad  Provincia  \n",
       "0  5145 Phillips Tunnel Suite 711\\nNorth Kim, CA ...    40       Loja  \n",
       "1    6457 Ricardo Wells Apt. 512\\nMarybury, KY 23671    31  Pichincha  \n",
       "2  27521 Sarah Port Apt. 271\\nCarolynborough, MT ...    31     Guayas  \n",
       "3             31334 Zachary Fork\\nLisatown, AL 44945    39      Azuay  \n",
       "4      27762 William Rest\\nLake Angelafurt, AR 14496    34  Pichincha  "
      ]
     },
     "execution_count": 70,
     "metadata": {},
     "output_type": "execute_result"
    }
   ],
   "source": [
    "from faker import Faker\n",
    "import random\n",
    "import pandas as pd\n",
    "fake = Faker()\n",
    "datos=[]\n",
    "for a in range(10000):\n",
    "    nombres=fake.name()\n",
    "    apellidos=fake.last_name()\n",
    "    correo=fake.email()\n",
    "    direccion=fake.address()\n",
    "    edad=random.randint(30, 40)\n",
    "    provincia=random.choice(['Loja','Pichincha','Guayas','Azuay','Manabi'])\n",
    "    datos.append([nombres,apellidos,correo,direccion,edad,provincia])\n",
    "\n",
    "dataframe=pd.DataFrame(datos,columns=['Nombres','Apellidos','Correo','Direccion','Edad','Provincia'])\n",
    "dataframe.head()\n"
   ]
  },
  {
   "cell_type": "code",
   "execution_count": 71,
   "metadata": {},
   "outputs": [],
   "source": [
    "# Pasar datos a CSV\n",
    "dataframe.to_csv('datos.csv', index=False)"
   ]
  }
 ],
 "metadata": {
  "kernelspec": {
   "display_name": "Python 3",
   "language": "python",
   "name": "python3"
  },
  "language_info": {
   "codemirror_mode": {
    "name": "ipython",
    "version": 3
   },
   "file_extension": ".py",
   "mimetype": "text/x-python",
   "name": "python",
   "nbconvert_exporter": "python",
   "pygments_lexer": "ipython3",
   "version": "3.9.13"
  }
 },
 "nbformat": 4,
 "nbformat_minor": 2
}
